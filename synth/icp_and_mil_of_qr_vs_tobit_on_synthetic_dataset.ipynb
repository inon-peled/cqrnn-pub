{
 "cells": [
  {
   "cell_type": "markdown",
   "metadata": {},
   "source": [
    "# The 3 Common Synthetic Baseline Datasets"
   ]
  },
  {
   "cell_type": "code",
   "execution_count": 1,
   "metadata": {},
   "outputs": [],
   "source": [
    "%load_ext autoreload\n",
    "%autoreload 2\n",
    "\n",
    "import os\n",
    "os.environ[\"CUDA_DEVICE_ORDER\"] = \"PCI_BUS_ID\"\n",
    "os.environ[\"CUDA_VISIBLE_DEVICES\"] = \"\"\n",
    "# # Try to limit to one thread:\n",
    "# os.environ[\"OMP_NUM_THREADS\"] = \"1\"\n",
    "# os.environ[\"NUMEXPR_NUM_THREADS\"] = \"1\"\n",
    "# os.environ[\"MKL_NUM_THREADS\"] = \"1\"\n",
    "# os.environ[\"BLOSC_NTHREADS\"] = \"1\"\n",
    "\n",
    "from synthetic_dataset_1 import make_ds1\n",
    "from synthetic_dataset_2 import make_ds2\n",
    "from synthetic_dataset_3 import make_ds3\n",
    "from icp_and_mil_for_deepcqr_synth import \\\n",
    "    create_fit_predict_evaluate, \\\n",
    "    create_single_unit_model, \\\n",
    "    train_validation_test_random_splitter, \\\n",
    "    create_initializer_near_0_or_1, \\\n",
    "    get_range_of_fit_seeds, \\\n",
    "    evaluation_measures, \\\n",
    "    _mil_icp_cross\n",
    "\n",
    "import numpy as np\n",
    "from matplotlib import pyplot as plt\n",
    "import tensorflow as tf\n",
    "import tensorflow_probability as tfp\n",
    "\n",
    "import pickle\n",
    "import os\n",
    "from glob import glob\n",
    "from functools import partial"
   ]
  },
  {
   "cell_type": "markdown",
   "metadata": {},
   "source": [
    "# Deep Tobit Type I"
   ]
  },
  {
   "cell_type": "code",
   "execution_count": 2,
   "metadata": {},
   "outputs": [],
   "source": [
    "def tobit_type1_nll_tensorflow(y_true, y_pred, noise_sigma, lower_threshold):\n",
    "    def nll_not_censored(y_true, y_pred, gamma):\n",
    "        nrm = tfp.distributions.Normal(loc=0, scale=1)\n",
    "        cens_labels = y_true <= 0\n",
    "        return -tf.math.reduce_sum(\n",
    "            np.log(gamma) + nrm.log_prob(\n",
    "                gamma * tf.boolean_mask(y_true, ~cens_labels) - \\\n",
    "                tf.boolean_mask(y_pred, ~cens_labels)))\n",
    "    \n",
    "    def nll_censored(y_pred, gamma, lower_threshold):\n",
    "        nrm = tfp.distributions.Normal(loc=0, scale=1)\n",
    "        cens_labels = y_true <= 0\n",
    "        return -tf.math.reduce_sum(\n",
    "            nrm.log_cdf(gamma * lower_threshold - \\\n",
    "                        tf.boolean_mask(y_pred, cens_labels)))\n",
    "    \n",
    "    return \\\n",
    "        nll_not_censored(y_pred=y_pred, \n",
    "                         y_true=y_true, \n",
    "                         gamma=1 / noise_sigma) + \\\n",
    "        nll_censored(y_pred=y_pred,\n",
    "                     gamma=1 / noise_sigma,\n",
    "                     lower_threshold=lower_threshold)"
   ]
  },
  {
   "cell_type": "code",
   "execution_count": 3,
   "metadata": {},
   "outputs": [
    {
     "name": "stderr",
     "output_type": "stream",
     "text": [
      "\r",
      "fit seeds:   0%|          | 0/20 [00:00<?, ?it/s]"
     ]
    },
    {
     "name": "stdout",
     "output_type": "stream",
     "text": [
      "Censored observations: 274 of 1000 (0.27%)\n",
      "Fraction censored of test: 0.2878787878787879\n"
     ]
    },
    {
     "name": "stderr",
     "output_type": "stream",
     "text": [
      "\r",
      "fit seeds:   5%|▌         | 1/20 [00:01<00:19,  1.03s/it]"
     ]
    },
    {
     "name": "stdout",
     "output_type": "stream",
     "text": [
      "Restoring model weights from the end of the best epoch.\n",
      "Epoch 00020: early stopping\n",
      "Current loss = 159.34573364257812, best loss before current = None\n"
     ]
    },
    {
     "name": "stderr",
     "output_type": "stream",
     "text": [
      "\r",
      "fit seeds:  10%|█         | 2/20 [00:01<00:17,  1.06it/s]"
     ]
    },
    {
     "name": "stdout",
     "output_type": "stream",
     "text": [
      "Restoring model weights from the end of the best epoch.\n",
      "Epoch 00015: early stopping\n",
      "Current loss = 159.24673461914062, best loss before current = 159.34573364257812\n"
     ]
    },
    {
     "name": "stderr",
     "output_type": "stream",
     "text": [
      "\r",
      "fit seeds:  15%|█▌        | 3/20 [00:02<00:15,  1.11it/s]"
     ]
    },
    {
     "name": "stdout",
     "output_type": "stream",
     "text": [
      "Restoring model weights from the end of the best epoch.\n",
      "Epoch 00019: early stopping\n",
      "Current loss = 159.57029724121094, best loss before current = 159.24673461914062\n"
     ]
    },
    {
     "name": "stderr",
     "output_type": "stream",
     "text": [
      "\r",
      "fit seeds:  20%|██        | 4/20 [00:03<00:13,  1.16it/s]"
     ]
    },
    {
     "name": "stdout",
     "output_type": "stream",
     "text": [
      "Restoring model weights from the end of the best epoch.\n",
      "Epoch 00018: early stopping\n",
      "Current loss = 159.31019592285156, best loss before current = 159.24673461914062\n"
     ]
    },
    {
     "name": "stderr",
     "output_type": "stream",
     "text": [
      "\r",
      "fit seeds:  25%|██▌       | 5/20 [00:04<00:13,  1.15it/s]"
     ]
    },
    {
     "name": "stdout",
     "output_type": "stream",
     "text": [
      "Restoring model weights from the end of the best epoch.\n",
      "Epoch 00017: early stopping\n",
      "Current loss = 159.8618927001953, best loss before current = 159.24673461914062\n"
     ]
    },
    {
     "name": "stderr",
     "output_type": "stream",
     "text": [
      "\r",
      "fit seeds:  30%|███       | 6/20 [00:05<00:11,  1.17it/s]"
     ]
    },
    {
     "name": "stdout",
     "output_type": "stream",
     "text": [
      "Restoring model weights from the end of the best epoch.\n",
      "Epoch 00024: early stopping\n",
      "Current loss = 159.24578857421875, best loss before current = 159.24673461914062\n"
     ]
    },
    {
     "name": "stderr",
     "output_type": "stream",
     "text": [
      "\r",
      "fit seeds:  35%|███▌      | 7/20 [00:06<00:11,  1.10it/s]"
     ]
    },
    {
     "name": "stdout",
     "output_type": "stream",
     "text": [
      "Restoring model weights from the end of the best epoch.\n",
      "Epoch 00048: early stopping\n",
      "Current loss = 159.36019897460938, best loss before current = 159.24578857421875\n"
     ]
    },
    {
     "name": "stderr",
     "output_type": "stream",
     "text": [
      "\r",
      "fit seeds:  40%|████      | 8/20 [00:06<00:10,  1.15it/s]"
     ]
    },
    {
     "name": "stdout",
     "output_type": "stream",
     "text": [
      "Restoring model weights from the end of the best epoch.\n",
      "Epoch 00016: early stopping\n",
      "Current loss = 159.27455139160156, best loss before current = 159.24578857421875\n"
     ]
    },
    {
     "name": "stderr",
     "output_type": "stream",
     "text": [
      "\r",
      "fit seeds:  45%|████▌     | 9/20 [00:07<00:09,  1.14it/s]"
     ]
    },
    {
     "name": "stdout",
     "output_type": "stream",
     "text": [
      "Restoring model weights from the end of the best epoch.\n",
      "Epoch 00015: early stopping\n",
      "Current loss = 159.6719512939453, best loss before current = 159.24578857421875\n"
     ]
    },
    {
     "name": "stderr",
     "output_type": "stream",
     "text": [
      "\r",
      "fit seeds:  50%|█████     | 10/20 [00:08<00:08,  1.19it/s]"
     ]
    },
    {
     "name": "stdout",
     "output_type": "stream",
     "text": [
      "Restoring model weights from the end of the best epoch.\n",
      "Epoch 00016: early stopping\n",
      "Current loss = 159.24227905273438, best loss before current = 159.24578857421875\n"
     ]
    },
    {
     "name": "stderr",
     "output_type": "stream",
     "text": [
      "\r",
      "fit seeds:  55%|█████▌    | 11/20 [00:09<00:07,  1.23it/s]"
     ]
    },
    {
     "name": "stdout",
     "output_type": "stream",
     "text": [
      "Restoring model weights from the end of the best epoch.\n",
      "Epoch 00015: early stopping\n",
      "Current loss = 160.5338592529297, best loss before current = 159.24227905273438\n"
     ]
    },
    {
     "name": "stderr",
     "output_type": "stream",
     "text": [
      "\r",
      "fit seeds:  60%|██████    | 12/20 [00:10<00:06,  1.21it/s]"
     ]
    },
    {
     "name": "stdout",
     "output_type": "stream",
     "text": [
      "Restoring model weights from the end of the best epoch.\n",
      "Epoch 00029: early stopping\n",
      "Current loss = 159.33444213867188, best loss before current = 159.24227905273438\n"
     ]
    },
    {
     "name": "stderr",
     "output_type": "stream",
     "text": [
      "\r",
      "fit seeds:  65%|██████▌   | 13/20 [00:11<00:06,  1.14it/s]"
     ]
    },
    {
     "name": "stdout",
     "output_type": "stream",
     "text": [
      "Restoring model weights from the end of the best epoch.\n",
      "Epoch 00041: early stopping\n",
      "Current loss = 159.29754638671875, best loss before current = 159.24227905273438\n"
     ]
    },
    {
     "name": "stderr",
     "output_type": "stream",
     "text": [
      "\r",
      "fit seeds:  70%|███████   | 14/20 [00:12<00:05,  1.13it/s]"
     ]
    },
    {
     "name": "stdout",
     "output_type": "stream",
     "text": [
      "Restoring model weights from the end of the best epoch.\n",
      "Epoch 00013: early stopping\n",
      "Current loss = 159.221923828125, best loss before current = 159.24227905273438\n"
     ]
    },
    {
     "name": "stderr",
     "output_type": "stream",
     "text": [
      "\r",
      "fit seeds:  75%|███████▌  | 15/20 [00:12<00:04,  1.19it/s]"
     ]
    },
    {
     "name": "stdout",
     "output_type": "stream",
     "text": [
      "Restoring model weights from the end of the best epoch.\n",
      "Epoch 00014: early stopping\n",
      "Current loss = 160.48602294921875, best loss before current = 159.221923828125\n"
     ]
    },
    {
     "name": "stderr",
     "output_type": "stream",
     "text": [
      "\r",
      "fit seeds:  80%|████████  | 16/20 [00:13<00:03,  1.21it/s]"
     ]
    },
    {
     "name": "stdout",
     "output_type": "stream",
     "text": [
      "Restoring model weights from the end of the best epoch.\n",
      "Epoch 00019: early stopping\n",
      "Current loss = 159.33859252929688, best loss before current = 159.221923828125\n"
     ]
    },
    {
     "name": "stderr",
     "output_type": "stream",
     "text": [
      "\r",
      "fit seeds:  85%|████████▌ | 17/20 [00:14<00:02,  1.25it/s]"
     ]
    },
    {
     "name": "stdout",
     "output_type": "stream",
     "text": [
      "Restoring model weights from the end of the best epoch.\n",
      "Epoch 00014: early stopping\n",
      "Current loss = 160.22116088867188, best loss before current = 159.221923828125\n"
     ]
    },
    {
     "name": "stderr",
     "output_type": "stream",
     "text": [
      "\r",
      "fit seeds:  90%|█████████ | 18/20 [00:15<00:01,  1.24it/s]"
     ]
    },
    {
     "name": "stdout",
     "output_type": "stream",
     "text": [
      "Restoring model weights from the end of the best epoch.\n",
      "Epoch 00023: early stopping\n",
      "Current loss = 159.3190155029297, best loss before current = 159.221923828125\n"
     ]
    },
    {
     "name": "stderr",
     "output_type": "stream",
     "text": [
      "\r",
      "fit seeds:  95%|█████████▌| 19/20 [00:16<00:00,  1.19it/s]"
     ]
    },
    {
     "name": "stdout",
     "output_type": "stream",
     "text": [
      "Restoring model weights from the end of the best epoch.\n",
      "Epoch 00014: early stopping\n",
      "Current loss = 159.5835723876953, best loss before current = 159.221923828125\n"
     ]
    },
    {
     "name": "stderr",
     "output_type": "stream",
     "text": [
      "fit seeds: 100%|██████████| 20/20 [00:16<00:00,  1.18it/s]"
     ]
    },
    {
     "name": "stdout",
     "output_type": "stream",
     "text": [
      "Restoring model weights from the end of the best epoch.\n",
      "Epoch 00026: early stopping\n",
      "Current loss = 159.23318481445312, best loss before current = 159.221923828125\n",
      "Best model weights: [array([[1.0300485 ],\n",
      "       [1.0182496 ],\n",
      "       [0.94238794]], dtype=float32)]\n",
      "y_true > 0 = 235 of 330 (0.71)\n"
     ]
    },
    {
     "name": "stderr",
     "output_type": "stream",
     "text": [
      "\n"
     ]
    },
    {
     "data": {
      "text/plain": [
       "{'all': {'mil': 3.2897072539029453, 'cross': 0.0, 'icp': 0.9090909090909091},\n",
       " 'only_non_censored': {'mil': 3.2897072539029457,\n",
       "  'cross': 0.0,\n",
       "  'icp': 0.9148936170212766}}"
      ]
     },
     "execution_count": 3,
     "metadata": {},
     "output_type": "execute_result"
    }
   ],
   "source": [
    "# ---------------- 1st Synth DS ------------------\n",
    "create_fit_predict_evaluate(\n",
    "    noise_sigma=1,\n",
    "    splitter=partial(train_validation_test_random_splitter, seed=0, percent_test=0.33, percent_val_from_train=0.2),\n",
    "    initalization_creator=create_initializer_near_0_or_1,\n",
    "    fit_seeds=get_range_of_fit_seeds(),\n",
    "    model_creator=partial(\n",
    "        create_single_unit_model, \n",
    "        loss=lambda y_true, y_pred: tobit_type1_nll_tensorflow(\n",
    "            noise_sigma=1, \n",
    "            y_true=y_true, \n",
    "            y_pred=y_pred, \n",
    "            lower_threshold=0),\n",
    "        activation='linear',\n",
    "        optimizer=tf.keras.optimizers.Adam(learning_rate=0.1, clipnorm=1),\n",
    "        num_x_features=3),\n",
    "    verbose=False,\n",
    "    dataset=make_ds1(verbose=True, num_samples=1000, seed=42)\n",
    ")['evaluation']"
   ]
  },
  {
   "cell_type": "code",
   "execution_count": 4,
   "metadata": {},
   "outputs": [
    {
     "name": "stderr",
     "output_type": "stream",
     "text": [
      "\r",
      "fit seeds:   0%|          | 0/20 [00:00<?, ?it/s]"
     ]
    },
    {
     "name": "stdout",
     "output_type": "stream",
     "text": [
      "Censored observations: 309 of 1000 (0.31%)\n",
      "Fraction censored of test: 0.3181818181818182\n"
     ]
    },
    {
     "name": "stderr",
     "output_type": "stream",
     "text": [
      "\r",
      "fit seeds:   5%|▌         | 1/20 [00:00<00:15,  1.19it/s]"
     ]
    },
    {
     "name": "stdout",
     "output_type": "stream",
     "text": [
      "Restoring model weights from the end of the best epoch.\n",
      "Epoch 00030: early stopping\n",
      "Current loss = 211.37237548828125, best loss before current = None\n"
     ]
    },
    {
     "name": "stderr",
     "output_type": "stream",
     "text": [
      "\r",
      "fit seeds:  10%|█         | 2/20 [00:01<00:14,  1.22it/s]"
     ]
    },
    {
     "name": "stdout",
     "output_type": "stream",
     "text": [
      "Restoring model weights from the end of the best epoch.\n",
      "Epoch 00018: early stopping\n",
      "Current loss = 212.05091857910156, best loss before current = 211.37237548828125\n"
     ]
    },
    {
     "name": "stderr",
     "output_type": "stream",
     "text": [
      "\r",
      "fit seeds:  15%|█▌        | 3/20 [00:02<00:14,  1.20it/s]"
     ]
    },
    {
     "name": "stdout",
     "output_type": "stream",
     "text": [
      "Restoring model weights from the end of the best epoch.\n",
      "Epoch 00028: early stopping\n",
      "Current loss = 211.54507446289062, best loss before current = 211.37237548828125\n"
     ]
    },
    {
     "name": "stderr",
     "output_type": "stream",
     "text": [
      "\r",
      "fit seeds:  20%|██        | 4/20 [00:03<00:14,  1.14it/s]"
     ]
    },
    {
     "name": "stdout",
     "output_type": "stream",
     "text": [
      "Restoring model weights from the end of the best epoch.\n",
      "Epoch 00020: early stopping\n",
      "Current loss = 211.83624267578125, best loss before current = 211.37237548828125\n"
     ]
    },
    {
     "name": "stderr",
     "output_type": "stream",
     "text": [
      "\r",
      "fit seeds:  25%|██▌       | 5/20 [00:04<00:12,  1.15it/s]"
     ]
    },
    {
     "name": "stdout",
     "output_type": "stream",
     "text": [
      "Restoring model weights from the end of the best epoch.\n",
      "Epoch 00025: early stopping\n",
      "Current loss = 211.77171325683594, best loss before current = 211.37237548828125\n"
     ]
    },
    {
     "name": "stderr",
     "output_type": "stream",
     "text": [
      "\r",
      "fit seeds:  30%|███       | 6/20 [00:05<00:11,  1.21it/s]"
     ]
    },
    {
     "name": "stdout",
     "output_type": "stream",
     "text": [
      "Restoring model weights from the end of the best epoch.\n",
      "Epoch 00012: early stopping\n",
      "Current loss = 211.74217224121094, best loss before current = 211.37237548828125\n"
     ]
    },
    {
     "name": "stderr",
     "output_type": "stream",
     "text": [
      "\r",
      "fit seeds:  35%|███▌      | 7/20 [00:05<00:10,  1.21it/s]"
     ]
    },
    {
     "name": "stdout",
     "output_type": "stream",
     "text": [
      "Restoring model weights from the end of the best epoch.\n",
      "Epoch 00024: early stopping\n",
      "Current loss = 211.64456176757812, best loss before current = 211.37237548828125\n"
     ]
    },
    {
     "name": "stderr",
     "output_type": "stream",
     "text": [
      "\r",
      "fit seeds:  40%|████      | 8/20 [00:06<00:10,  1.18it/s]"
     ]
    },
    {
     "name": "stdout",
     "output_type": "stream",
     "text": [
      "Restoring model weights from the end of the best epoch.\n",
      "Epoch 00011: early stopping\n",
      "Current loss = 211.61578369140625, best loss before current = 211.37237548828125\n"
     ]
    },
    {
     "name": "stderr",
     "output_type": "stream",
     "text": [
      "\r",
      "fit seeds:  45%|████▌     | 9/20 [00:07<00:09,  1.18it/s]"
     ]
    },
    {
     "name": "stdout",
     "output_type": "stream",
     "text": [
      "Restoring model weights from the end of the best epoch.\n",
      "Epoch 00024: early stopping\n",
      "Current loss = 211.33328247070312, best loss before current = 211.37237548828125\n"
     ]
    },
    {
     "name": "stderr",
     "output_type": "stream",
     "text": [
      "\r",
      "fit seeds:  50%|█████     | 10/20 [00:08<00:08,  1.19it/s]"
     ]
    },
    {
     "name": "stdout",
     "output_type": "stream",
     "text": [
      "Restoring model weights from the end of the best epoch.\n",
      "Epoch 00022: early stopping\n",
      "Current loss = 211.5064239501953, best loss before current = 211.33328247070312\n"
     ]
    },
    {
     "name": "stderr",
     "output_type": "stream",
     "text": [
      "\r",
      "fit seeds:  55%|█████▌    | 11/20 [00:09<00:07,  1.23it/s]"
     ]
    },
    {
     "name": "stdout",
     "output_type": "stream",
     "text": [
      "Restoring model weights from the end of the best epoch.\n",
      "Epoch 00015: early stopping\n",
      "Current loss = 212.33950805664062, best loss before current = 211.33328247070312\n"
     ]
    },
    {
     "name": "stderr",
     "output_type": "stream",
     "text": [
      "\r",
      "fit seeds:  60%|██████    | 12/20 [00:09<00:06,  1.25it/s]"
     ]
    },
    {
     "name": "stdout",
     "output_type": "stream",
     "text": [
      "Restoring model weights from the end of the best epoch.\n",
      "Epoch 00019: early stopping\n",
      "Current loss = 211.13604736328125, best loss before current = 211.33328247070312\n"
     ]
    },
    {
     "name": "stderr",
     "output_type": "stream",
     "text": [
      "\r",
      "fit seeds:  65%|██████▌   | 13/20 [00:10<00:05,  1.18it/s]"
     ]
    },
    {
     "name": "stdout",
     "output_type": "stream",
     "text": [
      "Restoring model weights from the end of the best epoch.\n",
      "Epoch 00015: early stopping\n",
      "Current loss = 212.86590576171875, best loss before current = 211.13604736328125\n"
     ]
    },
    {
     "name": "stderr",
     "output_type": "stream",
     "text": [
      "\r",
      "fit seeds:  70%|███████   | 14/20 [00:11<00:04,  1.23it/s]"
     ]
    },
    {
     "name": "stdout",
     "output_type": "stream",
     "text": [
      "Restoring model weights from the end of the best epoch.\n",
      "Epoch 00013: early stopping\n",
      "Current loss = 211.52993774414062, best loss before current = 211.13604736328125\n"
     ]
    },
    {
     "name": "stderr",
     "output_type": "stream",
     "text": [
      "\r",
      "fit seeds:  75%|███████▌  | 15/20 [00:12<00:04,  1.23it/s]"
     ]
    },
    {
     "name": "stdout",
     "output_type": "stream",
     "text": [
      "Restoring model weights from the end of the best epoch.\n",
      "Epoch 00022: early stopping\n",
      "Current loss = 212.33584594726562, best loss before current = 211.13604736328125\n"
     ]
    },
    {
     "name": "stderr",
     "output_type": "stream",
     "text": [
      "\r",
      "fit seeds:  80%|████████  | 16/20 [00:13<00:03,  1.26it/s]"
     ]
    },
    {
     "name": "stdout",
     "output_type": "stream",
     "text": [
      "Restoring model weights from the end of the best epoch.\n",
      "Epoch 00017: early stopping\n",
      "Current loss = 211.8233184814453, best loss before current = 211.13604736328125\n"
     ]
    },
    {
     "name": "stderr",
     "output_type": "stream",
     "text": [
      "\r",
      "fit seeds:  85%|████████▌ | 17/20 [00:14<00:02,  1.09it/s]"
     ]
    },
    {
     "name": "stdout",
     "output_type": "stream",
     "text": [
      "Restoring model weights from the end of the best epoch.\n",
      "Epoch 00047: early stopping\n",
      "Current loss = 211.85214233398438, best loss before current = 211.13604736328125\n"
     ]
    },
    {
     "name": "stderr",
     "output_type": "stream",
     "text": [
      "\r",
      "fit seeds:  90%|█████████ | 18/20 [00:15<00:01,  1.13it/s]"
     ]
    },
    {
     "name": "stdout",
     "output_type": "stream",
     "text": [
      "Restoring model weights from the end of the best epoch.\n",
      "Epoch 00023: early stopping\n",
      "Current loss = 211.1562957763672, best loss before current = 211.13604736328125\n"
     ]
    },
    {
     "name": "stderr",
     "output_type": "stream",
     "text": [
      "\r",
      "fit seeds:  95%|█████████▌| 19/20 [00:15<00:00,  1.19it/s]"
     ]
    },
    {
     "name": "stdout",
     "output_type": "stream",
     "text": [
      "Restoring model weights from the end of the best epoch.\n",
      "Epoch 00014: early stopping\n",
      "Current loss = 213.30300903320312, best loss before current = 211.13604736328125\n"
     ]
    },
    {
     "name": "stderr",
     "output_type": "stream",
     "text": [
      "fit seeds: 100%|██████████| 20/20 [00:16<00:00,  1.20it/s]"
     ]
    },
    {
     "name": "stdout",
     "output_type": "stream",
     "text": [
      "Restoring model weights from the end of the best epoch.\n",
      "Epoch 00011: early stopping\n",
      "Current loss = 212.22894287109375, best loss before current = 211.13604736328125\n",
      "Best model weights: [array([[0.96875584],\n",
      "       [1.1288785 ],\n",
      "       [1.1875395 ]], dtype=float32)]\n",
      "y_true > 0 = 225 of 330 (0.68)\n"
     ]
    },
    {
     "name": "stderr",
     "output_type": "stream",
     "text": [
      "\n"
     ]
    },
    {
     "data": {
      "text/plain": [
       "{'all': {'mil': 3.2897072539029453, 'cross': 0.0, 'icp': 0.8454545454545455},\n",
       " 'only_non_censored': {'mil': 3.289707253902946,\n",
       "  'cross': 0.0,\n",
       "  'icp': 0.8311111111111111}}"
      ]
     },
     "execution_count": 4,
     "metadata": {},
     "output_type": "execute_result"
    }
   ],
   "source": [
    "# ---------------- 2nd Synth DS ------------------\n",
    "create_fit_predict_evaluate(\n",
    "    noise_sigma=1,\n",
    "    splitter=partial(train_validation_test_random_splitter, seed=0, percent_test=0.33, percent_val_from_train=0.2),\n",
    "    initalization_creator=create_initializer_near_0_or_1,\n",
    "    fit_seeds=get_range_of_fit_seeds(),\n",
    "    model_creator=partial(\n",
    "        create_single_unit_model, \n",
    "        loss=lambda y_true, y_pred: tobit_type1_nll_tensorflow(\n",
    "            noise_sigma=1, \n",
    "            y_true=y_true, \n",
    "            y_pred=y_pred, \n",
    "            lower_threshold=0),\n",
    "        activation='linear',\n",
    "        optimizer=tf.keras.optimizers.Adam(learning_rate=0.1, clipnorm=1),\n",
    "        num_x_features=3),\n",
    "    verbose=False,\n",
    "    dataset=make_ds2(verbose=True, num_samples=1000, seed=42)\n",
    ")['evaluation']"
   ]
  },
  {
   "cell_type": "code",
   "execution_count": 6,
   "metadata": {},
   "outputs": [
    {
     "name": "stderr",
     "output_type": "stream",
     "text": [
      "\r",
      "fit seeds:   0%|          | 0/20 [00:00<?, ?it/s]"
     ]
    },
    {
     "name": "stdout",
     "output_type": "stream",
     "text": [
      "Censored observations: 264 of 1000 (0.26%)\n",
      "Fraction censored of test: 0.2818181818181818\n"
     ]
    },
    {
     "name": "stderr",
     "output_type": "stream",
     "text": [
      "\r",
      "fit seeds:   5%|▌         | 1/20 [00:00<00:14,  1.33it/s]"
     ]
    },
    {
     "name": "stdout",
     "output_type": "stream",
     "text": [
      "Restoring model weights from the end of the best epoch.\n",
      "Epoch 00020: early stopping\n",
      "Current loss = 148.53842163085938, best loss before current = None\n"
     ]
    },
    {
     "name": "stderr",
     "output_type": "stream",
     "text": [
      "\r",
      "fit seeds:  10%|█         | 2/20 [00:01<00:14,  1.24it/s]"
     ]
    },
    {
     "name": "stdout",
     "output_type": "stream",
     "text": [
      "Restoring model weights from the end of the best epoch.\n",
      "Epoch 00019: early stopping\n",
      "Current loss = 147.49368286132812, best loss before current = 148.53842163085938\n"
     ]
    },
    {
     "name": "stderr",
     "output_type": "stream",
     "text": [
      "\r",
      "fit seeds:  15%|█▌        | 3/20 [00:02<00:13,  1.25it/s]"
     ]
    },
    {
     "name": "stdout",
     "output_type": "stream",
     "text": [
      "Restoring model weights from the end of the best epoch.\n",
      "Epoch 00019: early stopping\n",
      "Current loss = 147.87454223632812, best loss before current = 147.49368286132812\n"
     ]
    },
    {
     "name": "stderr",
     "output_type": "stream",
     "text": [
      "\r",
      "fit seeds:  20%|██        | 4/20 [00:03<00:12,  1.29it/s]"
     ]
    },
    {
     "name": "stdout",
     "output_type": "stream",
     "text": [
      "Restoring model weights from the end of the best epoch.\n",
      "Epoch 00011: early stopping\n",
      "Current loss = 147.36758422851562, best loss before current = 147.49368286132812\n"
     ]
    },
    {
     "name": "stderr",
     "output_type": "stream",
     "text": [
      "\r",
      "fit seeds:  25%|██▌       | 5/20 [00:04<00:13,  1.15it/s]"
     ]
    },
    {
     "name": "stdout",
     "output_type": "stream",
     "text": [
      "Restoring model weights from the end of the best epoch.\n",
      "Epoch 00053: early stopping\n",
      "Current loss = 147.30503845214844, best loss before current = 147.36758422851562\n"
     ]
    },
    {
     "name": "stderr",
     "output_type": "stream",
     "text": [
      "\r",
      "fit seeds:  30%|███       | 6/20 [00:05<00:12,  1.16it/s]"
     ]
    },
    {
     "name": "stdout",
     "output_type": "stream",
     "text": [
      "Restoring model weights from the end of the best epoch.\n",
      "Epoch 00025: early stopping\n",
      "Current loss = 147.37417602539062, best loss before current = 147.30503845214844\n"
     ]
    },
    {
     "name": "stderr",
     "output_type": "stream",
     "text": [
      "\r",
      "fit seeds:  35%|███▌      | 7/20 [00:06<00:11,  1.10it/s]"
     ]
    },
    {
     "name": "stdout",
     "output_type": "stream",
     "text": [
      "Restoring model weights from the end of the best epoch.\n",
      "Epoch 00024: early stopping\n",
      "Current loss = 147.84710693359375, best loss before current = 147.30503845214844\n"
     ]
    },
    {
     "name": "stderr",
     "output_type": "stream",
     "text": [
      "\r",
      "fit seeds:  40%|████      | 8/20 [00:06<00:10,  1.15it/s]"
     ]
    },
    {
     "name": "stdout",
     "output_type": "stream",
     "text": [
      "Restoring model weights from the end of the best epoch.\n",
      "Epoch 00019: early stopping\n",
      "Current loss = 147.297119140625, best loss before current = 147.30503845214844\n"
     ]
    },
    {
     "name": "stderr",
     "output_type": "stream",
     "text": [
      "\r",
      "fit seeds:  45%|████▌     | 9/20 [00:07<00:09,  1.17it/s]"
     ]
    },
    {
     "name": "stdout",
     "output_type": "stream",
     "text": [
      "Restoring model weights from the end of the best epoch.\n",
      "Epoch 00023: early stopping\n",
      "Current loss = 147.93215942382812, best loss before current = 147.297119140625\n"
     ]
    },
    {
     "name": "stderr",
     "output_type": "stream",
     "text": [
      "\r",
      "fit seeds:  50%|█████     | 10/20 [00:08<00:08,  1.17it/s]"
     ]
    },
    {
     "name": "stdout",
     "output_type": "stream",
     "text": [
      "Restoring model weights from the end of the best epoch.\n",
      "Epoch 00028: early stopping\n",
      "Current loss = 147.2862548828125, best loss before current = 147.297119140625\n"
     ]
    },
    {
     "name": "stderr",
     "output_type": "stream",
     "text": [
      "\r",
      "fit seeds:  55%|█████▌    | 11/20 [00:09<00:07,  1.21it/s]"
     ]
    },
    {
     "name": "stdout",
     "output_type": "stream",
     "text": [
      "Restoring model weights from the end of the best epoch.\n",
      "Epoch 00015: early stopping\n",
      "Current loss = 148.7484588623047, best loss before current = 147.2862548828125\n"
     ]
    },
    {
     "name": "stderr",
     "output_type": "stream",
     "text": [
      "\r",
      "fit seeds:  60%|██████    | 12/20 [00:10<00:06,  1.25it/s]"
     ]
    },
    {
     "name": "stdout",
     "output_type": "stream",
     "text": [
      "Restoring model weights from the end of the best epoch.\n",
      "Epoch 00013: early stopping\n",
      "Current loss = 147.33694458007812, best loss before current = 147.2862548828125\n"
     ]
    },
    {
     "name": "stderr",
     "output_type": "stream",
     "text": [
      "\r",
      "fit seeds:  65%|██████▌   | 13/20 [00:11<00:06,  1.08it/s]"
     ]
    },
    {
     "name": "stdout",
     "output_type": "stream",
     "text": [
      "Restoring model weights from the end of the best epoch.\n",
      "Epoch 00045: early stopping\n",
      "Current loss = 147.3028564453125, best loss before current = 147.2862548828125\n"
     ]
    },
    {
     "name": "stderr",
     "output_type": "stream",
     "text": [
      "\r",
      "fit seeds:  70%|███████   | 14/20 [00:12<00:05,  1.07it/s]"
     ]
    },
    {
     "name": "stdout",
     "output_type": "stream",
     "text": [
      "Restoring model weights from the end of the best epoch.\n",
      "Epoch 00038: early stopping\n",
      "Current loss = 147.31031799316406, best loss before current = 147.2862548828125\n"
     ]
    },
    {
     "name": "stderr",
     "output_type": "stream",
     "text": [
      "\r",
      "fit seeds:  75%|███████▌  | 15/20 [00:12<00:04,  1.15it/s]"
     ]
    },
    {
     "name": "stdout",
     "output_type": "stream",
     "text": [
      "Restoring model weights from the end of the best epoch.\n",
      "Epoch 00014: early stopping\n",
      "Current loss = 148.96336364746094, best loss before current = 147.2862548828125\n"
     ]
    },
    {
     "name": "stderr",
     "output_type": "stream",
     "text": [
      "\r",
      "fit seeds:  80%|████████  | 16/20 [00:13<00:03,  1.15it/s]"
     ]
    },
    {
     "name": "stdout",
     "output_type": "stream",
     "text": [
      "Restoring model weights from the end of the best epoch.\n",
      "Epoch 00029: early stopping\n",
      "Current loss = 147.27532958984375, best loss before current = 147.2862548828125\n"
     ]
    },
    {
     "name": "stderr",
     "output_type": "stream",
     "text": [
      "\r",
      "fit seeds:  85%|████████▌ | 17/20 [00:14<00:02,  1.11it/s]"
     ]
    },
    {
     "name": "stdout",
     "output_type": "stream",
     "text": [
      "Restoring model weights from the end of the best epoch.\n",
      "Epoch 00041: early stopping\n",
      "Current loss = 147.32492065429688, best loss before current = 147.27532958984375\n"
     ]
    },
    {
     "name": "stderr",
     "output_type": "stream",
     "text": [
      "\r",
      "fit seeds:  90%|█████████ | 18/20 [00:15<00:01,  1.05it/s]"
     ]
    },
    {
     "name": "stdout",
     "output_type": "stream",
     "text": [
      "Restoring model weights from the end of the best epoch.\n",
      "Epoch 00029: early stopping\n",
      "Current loss = 147.2845458984375, best loss before current = 147.27532958984375\n"
     ]
    },
    {
     "name": "stderr",
     "output_type": "stream",
     "text": [
      "\r",
      "fit seeds:  95%|█████████▌| 19/20 [00:16<00:00,  1.12it/s]"
     ]
    },
    {
     "name": "stdout",
     "output_type": "stream",
     "text": [
      "Restoring model weights from the end of the best epoch.\n",
      "Epoch 00014: early stopping\n",
      "Current loss = 148.72471618652344, best loss before current = 147.27532958984375\n"
     ]
    },
    {
     "name": "stderr",
     "output_type": "stream",
     "text": [
      "fit seeds: 100%|██████████| 20/20 [00:17<00:00,  1.15it/s]"
     ]
    },
    {
     "name": "stdout",
     "output_type": "stream",
     "text": [
      "Restoring model weights from the end of the best epoch.\n",
      "Epoch 00020: early stopping\n",
      "Current loss = 147.6136016845703, best loss before current = 147.27532958984375\n",
      "Best model weights: [array([[0.96592826],\n",
      "       [1.1058626 ],\n",
      "       [0.9715684 ]], dtype=float32)]\n",
      "y_true > 0 = 237 of 330 (0.72)\n"
     ]
    },
    {
     "name": "stderr",
     "output_type": "stream",
     "text": [
      "\n"
     ]
    },
    {
     "data": {
      "text/plain": [
       "{'all': {'mil': 3.2897072539029453, 'cross': 0.0, 'icp': 0.9363636363636364},\n",
       " 'only_non_censored': {'mil': 3.2897072539029457,\n",
       "  'cross': 0.0,\n",
       "  'icp': 0.9409282700421941}}"
      ]
     },
     "execution_count": 6,
     "metadata": {},
     "output_type": "execute_result"
    }
   ],
   "source": [
    "# ---------------- 3rd Synth DS ------------------\n",
    "create_fit_predict_evaluate(\n",
    "    noise_sigma=1,\n",
    "    splitter=partial(train_validation_test_random_splitter, seed=0, percent_test=0.33, percent_val_from_train=0.2),\n",
    "    initalization_creator=create_initializer_near_0_or_1,\n",
    "    fit_seeds=get_range_of_fit_seeds(),\n",
    "    model_creator=partial(\n",
    "        create_single_unit_model, \n",
    "        loss=lambda y_true, y_pred: tobit_type1_nll_tensorflow(\n",
    "            noise_sigma=1, \n",
    "            y_true=y_true, \n",
    "            y_pred=y_pred, \n",
    "            lower_threshold=0),\n",
    "        activation='linear',\n",
    "        optimizer=tf.keras.optimizers.Adam(learning_rate=0.1, clipnorm=1),\n",
    "        num_x_features=3),\n",
    "    verbose=False,\n",
    "    dataset=make_ds3(verbose=True, num_samples=1000, seed=42)\n",
    ")['evaluation']"
   ]
  },
  {
   "cell_type": "markdown",
   "metadata": {},
   "source": [
    "# YS-based QR"
   ]
  },
  {
   "cell_type": "code",
   "execution_count": 7,
   "metadata": {},
   "outputs": [],
   "source": [
    "def analyze_results_from_hpc(thetas_dir):\n",
    "    def eval_subset(qpred_5, qpred_95, y_true):\n",
    "        return _mil_icp_cross(qpred_5=qpred_5, qpred_95=qpred_95, y_true=y_true)\n",
    "    res_q5 = pickle.load(open(os.path.join(thetas_dir, 'theta_0.05.pkl'), 'rb'))\n",
    "    res_q95 = pickle.load(open(os.path.join(thetas_dir, 'theta_0.95.pkl'), 'rb'))\n",
    "    qpred_5_all = np.array(res_q5[1]['ystar_pred']).flatten()\n",
    "    qpred_95_all = np.array(res_q95[1]['ystar_pred']).flatten()\n",
    "    y_true = np.array(res_q5[1]['ystar_true']).flatten()\n",
    "    return {\n",
    "        'all': eval_subset(qpred_5=qpred_5_all, qpred_95=qpred_95_all, y_true=y_true),\n",
    "        'only_non_censored': eval_subset(qpred_5=qpred_5_all[y_true > 0], qpred_95=qpred_95_all[y_true > 0], y_true=y_true[y_true > 0])\n",
    "    }"
   ]
  },
  {
   "cell_type": "code",
   "execution_count": 8,
   "metadata": {},
   "outputs": [
    {
     "data": {
      "text/plain": [
       "{'all': {'mil': 3.1550411658079334, 'cross': 0.0, 'icp': 0.8878787878787879},\n",
       " 'only_non_censored': {'mil': 3.2352524436217673,\n",
       "  'cross': 0.0,\n",
       "  'icp': 0.8851063829787233}}"
      ]
     },
     "execution_count": 8,
     "metadata": {},
     "output_type": "execute_result"
    }
   ],
   "source": [
    "analyze_results_from_hpc(thetas_dir='./thetas/synth_ds_1/')"
   ]
  },
  {
   "cell_type": "code",
   "execution_count": 9,
   "metadata": {},
   "outputs": [
    {
     "data": {
      "text/plain": [
       "{'all': {'mil': 3.7423493673404056,\n",
       "  'cross': 0.03333333333333333,\n",
       "  'icp': 0.7787878787878788},\n",
       " 'only_non_censored': {'mil': 4.480432671176063,\n",
       "  'cross': 0.0,\n",
       "  'icp': 0.9066666666666666}}"
      ]
     },
     "execution_count": 9,
     "metadata": {},
     "output_type": "execute_result"
    }
   ],
   "source": [
    "analyze_results_from_hpc(thetas_dir='./thetas/synth_ds_2/')"
   ]
  },
  {
   "cell_type": "code",
   "execution_count": 10,
   "metadata": {},
   "outputs": [
    {
     "data": {
      "text/plain": [
       "{'all': {'mil': 2.643803209495364,\n",
       "  'cross': 0.006060606060606061,\n",
       "  'icp': 0.7212121212121212},\n",
       " 'only_non_censored': {'mil': 3.081279080251098,\n",
       "  'cross': 0.0,\n",
       "  'icp': 0.9071729957805907}}"
      ]
     },
     "execution_count": 10,
     "metadata": {},
     "output_type": "execute_result"
    }
   ],
   "source": [
    "analyze_results_from_hpc(thetas_dir='./thetas/synth_ds_3/')"
   ]
  }
 ],
 "metadata": {
  "kernelspec": {
   "display_name": "Python 3",
   "language": "python",
   "name": "python3"
  },
  "language_info": {
   "codemirror_mode": {
    "name": "ipython",
    "version": 3
   },
   "file_extension": ".py",
   "mimetype": "text/x-python",
   "name": "python",
   "nbconvert_exporter": "python",
   "pygments_lexer": "ipython3",
   "version": "3.8.5"
  }
 },
 "nbformat": 4,
 "nbformat_minor": 2
}
